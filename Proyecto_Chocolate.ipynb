{
  "nbformat": 4,
  "nbformat_minor": 0,
  "metadata": {
    "colab": {
      "name": "Proyecto_Chocolate.ipynb",
      "provenance": [],
      "collapsed_sections": [],
      "include_colab_link": true
    },
    "kernelspec": {
      "name": "python3",
      "display_name": "Python 3"
    },
    "language_info": {
      "name": "python"
    }
  },
  "cells": [
    {
      "cell_type": "markdown",
      "metadata": {
        "id": "view-in-github",
        "colab_type": "text"
      },
      "source": [
        "<a href=\"https://colab.research.google.com/github/pazju/Chocolate-Ratings-Prediction/blob/main/Proyecto_Chocolate.ipynb\" target=\"_parent\"><img src=\"https://colab.research.google.com/assets/colab-badge.svg\" alt=\"Open In Colab\"/></a>"
      ]
    },
    {
      "cell_type": "markdown",
      "source": [
        "## **PROYECTO INTELIGENCIA ARTIFICIAL - Juan Camilo Paz y Juan José Pinilla**"
      ],
      "metadata": {
        "id": "KMqH4eFMe_94"
      }
    },
    {
      "cell_type": "markdown",
      "source": [
        "### **CHOCOLATE RATINGS PREDICTION**"
      ],
      "metadata": {
        "id": "MQ-UI6M2gsJp"
      }
    },
    {
      "cell_type": "markdown",
      "source": [
        "## **1.**"
      ],
      "metadata": {
        "id": "9QanmVS3wzD2"
      }
    },
    {
      "cell_type": "code",
      "execution_count": null,
      "metadata": {
        "id": "sAi16fVCV4dA"
      },
      "outputs": [],
      "source": [
        "import pandas as pd\n",
        "import re\n",
        "import numpy as np\n",
        "import matplotlib.pyplot as plt\n",
        "from matplotlib.colors import ListedColormap\n",
        "import matplotlib.patches as mpatches\n",
        "import seaborn as sb\n",
        "%matplotlib inline\n",
        "plt.rcParams['figure.figsize'] = (16, 9)\n",
        "plt.style.use('ggplot')\n",
        "\n",
        "from sklearn.linear_model import LogisticRegression\n",
        "from sklearn.neighbors import KNeighborsClassifier\n",
        "from sklearn.neighbors import DistanceMetric\n",
        "\n",
        "from sklearn.preprocessing import minmax_scale\n",
        "from sklearn.preprocessing import StandardScaler\n",
        "from sklearn.model_selection import train_test_split\n",
        "\n",
        "from sklearn.metrics import classification_report\n",
        "from sklearn.metrics import confusion_matrix\n",
        "\n",
        "from mpl_toolkits.mplot3d import Axes3D\n",
        "from sklearn import decomposition # Modulo que incluye PCA y Kernel PCA \n",
        "from sklearn import datasets\n",
        "from sklearn.decomposition import PCA, KernelPCA\n",
        "from sklearn.datasets import make_circles, make_moons, make_classification\n",
        "from sklearn.metrics import matthews_corrcoef\n",
        "from sklearn.metrics import accuracy_score\n",
        "from sklearn.metrics import roc_curve,roc_auc_score\n",
        "\n",
        "from sklearn import svm\n",
        "\n",
        "from numpy.lib.shape_base import column_stack\n",
        "from sklearn import preprocessing\n",
        "\n",
        "\n",
        "from sklearn.metrics import r2_score\n",
        "from sklearn.svm import SVC\n",
        "\n",
        "from sklearn.model_selection import cross_val_score\n",
        "from sklearn.model_selection import GridSearchCV\n",
        "\n",
        "#from sklearn import *\n",
        "\n",
        "\n",
        "# Compare Algorithms\n",
        "\n",
        "\n",
        "from sklearn import model_selection\n",
        "\n",
        "from sklearn.tree import DecisionTreeClassifier\n",
        "\n",
        "from sklearn.discriminant_analysis import LinearDiscriminantAnalysis\n",
        "from sklearn.naive_bayes import GaussianNB\n",
        "\n",
        "from sklearn.metrics import f1_score\n"
      ]
    },
    {
      "cell_type": "markdown",
      "source": [
        "## **2.**"
      ],
      "metadata": {
        "id": "u7CwZb-Ow365"
      }
    },
    {
      "cell_type": "code",
      "source": [
        "#DATASET\n",
        "dataset=pd.read_csv(\"chocolate_ratings.csv\")\n"
      ],
      "metadata": {
        "id": "03QH7W-qWUFv"
      },
      "execution_count": null,
      "outputs": []
    },
    {
      "cell_type": "code",
      "source": [
        "#DATOS ANTES DE LA LIMPIEZA\n",
        "dataset.head(3)"
      ],
      "metadata": {
        "colab": {
          "base_uri": "https://localhost:8080/",
          "height": 143
        },
        "id": "J7al5tL0Wv1H",
        "outputId": "cd99281c-8aa7-4d06-a510-94ebc88ced90"
      },
      "execution_count": null,
      "outputs": [
        {
          "output_type": "execute_result",
          "data": {
            "text/plain": [
              "    REF Company (Manufacturer) Company Location  Review Date  \\\n",
              "0  2454                   5150           U.S.A.         2019   \n",
              "1  2458                   5150           U.S.A.         2019   \n",
              "2  2454                   5150           U.S.A.         2019   \n",
              "\n",
              "  Country of Bean Origin Specific Bean Origin or Bar Name Cocoa Percent  \\\n",
              "0               Tanzania            Kokoa Kamili, batch 1           76%   \n",
              "1     Dominican Republic                  Zorzal, batch 1           76%   \n",
              "2             Madagascar           Bejofo Estate, batch 1           76%   \n",
              "\n",
              "  Ingredients Most Memorable Characteristics  Rating  \n",
              "0    3- B,S,C      rich cocoa, fatty, bready    3.25  \n",
              "1    3- B,S,C         cocoa, vegetal, savory    3.50  \n",
              "2    3- B,S,C   cocoa, blackberry, full body    3.75  "
            ],
            "text/html": [
              "\n",
              "  <div id=\"df-aa105fd8-a512-4b0e-94cf-f382c9246771\">\n",
              "    <div class=\"colab-df-container\">\n",
              "      <div>\n",
              "<style scoped>\n",
              "    .dataframe tbody tr th:only-of-type {\n",
              "        vertical-align: middle;\n",
              "    }\n",
              "\n",
              "    .dataframe tbody tr th {\n",
              "        vertical-align: top;\n",
              "    }\n",
              "\n",
              "    .dataframe thead th {\n",
              "        text-align: right;\n",
              "    }\n",
              "</style>\n",
              "<table border=\"1\" class=\"dataframe\">\n",
              "  <thead>\n",
              "    <tr style=\"text-align: right;\">\n",
              "      <th></th>\n",
              "      <th>REF</th>\n",
              "      <th>Company (Manufacturer)</th>\n",
              "      <th>Company Location</th>\n",
              "      <th>Review Date</th>\n",
              "      <th>Country of Bean Origin</th>\n",
              "      <th>Specific Bean Origin or Bar Name</th>\n",
              "      <th>Cocoa Percent</th>\n",
              "      <th>Ingredients</th>\n",
              "      <th>Most Memorable Characteristics</th>\n",
              "      <th>Rating</th>\n",
              "    </tr>\n",
              "  </thead>\n",
              "  <tbody>\n",
              "    <tr>\n",
              "      <th>0</th>\n",
              "      <td>2454</td>\n",
              "      <td>5150</td>\n",
              "      <td>U.S.A.</td>\n",
              "      <td>2019</td>\n",
              "      <td>Tanzania</td>\n",
              "      <td>Kokoa Kamili, batch 1</td>\n",
              "      <td>76%</td>\n",
              "      <td>3- B,S,C</td>\n",
              "      <td>rich cocoa, fatty, bready</td>\n",
              "      <td>3.25</td>\n",
              "    </tr>\n",
              "    <tr>\n",
              "      <th>1</th>\n",
              "      <td>2458</td>\n",
              "      <td>5150</td>\n",
              "      <td>U.S.A.</td>\n",
              "      <td>2019</td>\n",
              "      <td>Dominican Republic</td>\n",
              "      <td>Zorzal, batch 1</td>\n",
              "      <td>76%</td>\n",
              "      <td>3- B,S,C</td>\n",
              "      <td>cocoa, vegetal, savory</td>\n",
              "      <td>3.50</td>\n",
              "    </tr>\n",
              "    <tr>\n",
              "      <th>2</th>\n",
              "      <td>2454</td>\n",
              "      <td>5150</td>\n",
              "      <td>U.S.A.</td>\n",
              "      <td>2019</td>\n",
              "      <td>Madagascar</td>\n",
              "      <td>Bejofo Estate, batch 1</td>\n",
              "      <td>76%</td>\n",
              "      <td>3- B,S,C</td>\n",
              "      <td>cocoa, blackberry, full body</td>\n",
              "      <td>3.75</td>\n",
              "    </tr>\n",
              "  </tbody>\n",
              "</table>\n",
              "</div>\n",
              "      <button class=\"colab-df-convert\" onclick=\"convertToInteractive('df-aa105fd8-a512-4b0e-94cf-f382c9246771')\"\n",
              "              title=\"Convert this dataframe to an interactive table.\"\n",
              "              style=\"display:none;\">\n",
              "        \n",
              "  <svg xmlns=\"http://www.w3.org/2000/svg\" height=\"24px\"viewBox=\"0 0 24 24\"\n",
              "       width=\"24px\">\n",
              "    <path d=\"M0 0h24v24H0V0z\" fill=\"none\"/>\n",
              "    <path d=\"M18.56 5.44l.94 2.06.94-2.06 2.06-.94-2.06-.94-.94-2.06-.94 2.06-2.06.94zm-11 1L8.5 8.5l.94-2.06 2.06-.94-2.06-.94L8.5 2.5l-.94 2.06-2.06.94zm10 10l.94 2.06.94-2.06 2.06-.94-2.06-.94-.94-2.06-.94 2.06-2.06.94z\"/><path d=\"M17.41 7.96l-1.37-1.37c-.4-.4-.92-.59-1.43-.59-.52 0-1.04.2-1.43.59L10.3 9.45l-7.72 7.72c-.78.78-.78 2.05 0 2.83L4 21.41c.39.39.9.59 1.41.59.51 0 1.02-.2 1.41-.59l7.78-7.78 2.81-2.81c.8-.78.8-2.07 0-2.86zM5.41 20L4 18.59l7.72-7.72 1.47 1.35L5.41 20z\"/>\n",
              "  </svg>\n",
              "      </button>\n",
              "      \n",
              "  <style>\n",
              "    .colab-df-container {\n",
              "      display:flex;\n",
              "      flex-wrap:wrap;\n",
              "      gap: 12px;\n",
              "    }\n",
              "\n",
              "    .colab-df-convert {\n",
              "      background-color: #E8F0FE;\n",
              "      border: none;\n",
              "      border-radius: 50%;\n",
              "      cursor: pointer;\n",
              "      display: none;\n",
              "      fill: #1967D2;\n",
              "      height: 32px;\n",
              "      padding: 0 0 0 0;\n",
              "      width: 32px;\n",
              "    }\n",
              "\n",
              "    .colab-df-convert:hover {\n",
              "      background-color: #E2EBFA;\n",
              "      box-shadow: 0px 1px 2px rgba(60, 64, 67, 0.3), 0px 1px 3px 1px rgba(60, 64, 67, 0.15);\n",
              "      fill: #174EA6;\n",
              "    }\n",
              "\n",
              "    [theme=dark] .colab-df-convert {\n",
              "      background-color: #3B4455;\n",
              "      fill: #D2E3FC;\n",
              "    }\n",
              "\n",
              "    [theme=dark] .colab-df-convert:hover {\n",
              "      background-color: #434B5C;\n",
              "      box-shadow: 0px 1px 3px 1px rgba(0, 0, 0, 0.15);\n",
              "      filter: drop-shadow(0px 1px 2px rgba(0, 0, 0, 0.3));\n",
              "      fill: #FFFFFF;\n",
              "    }\n",
              "  </style>\n",
              "\n",
              "      <script>\n",
              "        const buttonEl =\n",
              "          document.querySelector('#df-aa105fd8-a512-4b0e-94cf-f382c9246771 button.colab-df-convert');\n",
              "        buttonEl.style.display =\n",
              "          google.colab.kernel.accessAllowed ? 'block' : 'none';\n",
              "\n",
              "        async function convertToInteractive(key) {\n",
              "          const element = document.querySelector('#df-aa105fd8-a512-4b0e-94cf-f382c9246771');\n",
              "          const dataTable =\n",
              "            await google.colab.kernel.invokeFunction('convertToInteractive',\n",
              "                                                     [key], {});\n",
              "          if (!dataTable) return;\n",
              "\n",
              "          const docLinkHtml = 'Like what you see? Visit the ' +\n",
              "            '<a target=\"_blank\" href=https://colab.research.google.com/notebooks/data_table.ipynb>data table notebook</a>'\n",
              "            + ' to learn more about interactive tables.';\n",
              "          element.innerHTML = '';\n",
              "          dataTable['output_type'] = 'display_data';\n",
              "          await google.colab.output.renderOutput(dataTable, element);\n",
              "          const docLink = document.createElement('div');\n",
              "          docLink.innerHTML = docLinkHtml;\n",
              "          element.appendChild(docLink);\n",
              "        }\n",
              "      </script>\n",
              "    </div>\n",
              "  </div>\n",
              "  "
            ]
          },
          "metadata": {},
          "execution_count": 3
        }
      ]
    },
    {
      "cell_type": "code",
      "source": [
        "#LIMPIEZA DE DATOS\n",
        "def clean(data):\n",
        "  data = data.drop([\"REF\",\"Review Date\", \"Most Memorable Characteristics\"], axis=1) #ELIMINACIÓN COLUMNAS  // POR EL MOMENTO BORRAMOS -> Most Memorable Characteristics (Calificar sentimiento es complejo)\n",
        "  data = data.dropna() #ELIMINACIÓN FILAS CON DATOS NULOS\n",
        "  cols = [\"Cocoa Percent\"]\n",
        "   \n",
        "  for col in cols:\n",
        "    data[col] = pd.to_numeric(data[col].str.strip(\"%\")) #PORCENTAJE A ENTERO\n",
        "    data[col] = data[col]/100 #ENTERO A DECIMAL\n",
        "  return data\n",
        "\n",
        "\n",
        "\n",
        "dataclean=clean(dataset)\n",
        "dataclean.head(10)\n",
        "\n",
        "\n"
      ],
      "metadata": {
        "colab": {
          "base_uri": "https://localhost:8080/",
          "height": 363
        },
        "id": "fHFiliB3XBbO",
        "outputId": "6a8b9649-cf55-4dd6-fd91-1f3f0bf5bc6a"
      },
      "execution_count": null,
      "outputs": [
        {
          "output_type": "execute_result",
          "data": {
            "text/plain": [
              "  Company (Manufacturer) Company Location Country of Bean Origin  \\\n",
              "0                   5150           U.S.A.               Tanzania   \n",
              "1                   5150           U.S.A.     Dominican Republic   \n",
              "2                   5150           U.S.A.             Madagascar   \n",
              "3                   5150           U.S.A.                   Fiji   \n",
              "4                   5150           U.S.A.              Venezuela   \n",
              "5                   5150           U.S.A.                 Uganda   \n",
              "6                   5150           U.S.A.                  India   \n",
              "7               A. Morin           France                Bolivia   \n",
              "8               A. Morin           France                   Peru   \n",
              "9               A. Morin           France                 Panama   \n",
              "\n",
              "  Specific Bean Origin or Bar Name  Cocoa Percent Ingredients  Rating  \n",
              "0            Kokoa Kamili, batch 1           0.76    3- B,S,C    3.25  \n",
              "1                  Zorzal, batch 1           0.76    3- B,S,C    3.50  \n",
              "2           Bejofo Estate, batch 1           0.76    3- B,S,C    3.75  \n",
              "3            Matasawalevu, batch 1           0.68    3- B,S,C    3.00  \n",
              "4            Sur del Lago, batch 1           0.72    3- B,S,C    3.00  \n",
              "5         Semuliki Forest, batch 1           0.80    3- B,S,C    3.25  \n",
              "6                Anamalai, batch 1           0.68    3- B,S,C    3.50  \n",
              "7                          Bolivia           0.70  4- B,S,C,L    3.50  \n",
              "8                             Peru           0.63  4- B,S,C,L    3.75  \n",
              "9                           Panama           0.70  4- B,S,C,L    2.75  "
            ],
            "text/html": [
              "\n",
              "  <div id=\"df-911bca12-a5cf-4d79-a265-530986f66c0d\">\n",
              "    <div class=\"colab-df-container\">\n",
              "      <div>\n",
              "<style scoped>\n",
              "    .dataframe tbody tr th:only-of-type {\n",
              "        vertical-align: middle;\n",
              "    }\n",
              "\n",
              "    .dataframe tbody tr th {\n",
              "        vertical-align: top;\n",
              "    }\n",
              "\n",
              "    .dataframe thead th {\n",
              "        text-align: right;\n",
              "    }\n",
              "</style>\n",
              "<table border=\"1\" class=\"dataframe\">\n",
              "  <thead>\n",
              "    <tr style=\"text-align: right;\">\n",
              "      <th></th>\n",
              "      <th>Company (Manufacturer)</th>\n",
              "      <th>Company Location</th>\n",
              "      <th>Country of Bean Origin</th>\n",
              "      <th>Specific Bean Origin or Bar Name</th>\n",
              "      <th>Cocoa Percent</th>\n",
              "      <th>Ingredients</th>\n",
              "      <th>Rating</th>\n",
              "    </tr>\n",
              "  </thead>\n",
              "  <tbody>\n",
              "    <tr>\n",
              "      <th>0</th>\n",
              "      <td>5150</td>\n",
              "      <td>U.S.A.</td>\n",
              "      <td>Tanzania</td>\n",
              "      <td>Kokoa Kamili, batch 1</td>\n",
              "      <td>0.76</td>\n",
              "      <td>3- B,S,C</td>\n",
              "      <td>3.25</td>\n",
              "    </tr>\n",
              "    <tr>\n",
              "      <th>1</th>\n",
              "      <td>5150</td>\n",
              "      <td>U.S.A.</td>\n",
              "      <td>Dominican Republic</td>\n",
              "      <td>Zorzal, batch 1</td>\n",
              "      <td>0.76</td>\n",
              "      <td>3- B,S,C</td>\n",
              "      <td>3.50</td>\n",
              "    </tr>\n",
              "    <tr>\n",
              "      <th>2</th>\n",
              "      <td>5150</td>\n",
              "      <td>U.S.A.</td>\n",
              "      <td>Madagascar</td>\n",
              "      <td>Bejofo Estate, batch 1</td>\n",
              "      <td>0.76</td>\n",
              "      <td>3- B,S,C</td>\n",
              "      <td>3.75</td>\n",
              "    </tr>\n",
              "    <tr>\n",
              "      <th>3</th>\n",
              "      <td>5150</td>\n",
              "      <td>U.S.A.</td>\n",
              "      <td>Fiji</td>\n",
              "      <td>Matasawalevu, batch 1</td>\n",
              "      <td>0.68</td>\n",
              "      <td>3- B,S,C</td>\n",
              "      <td>3.00</td>\n",
              "    </tr>\n",
              "    <tr>\n",
              "      <th>4</th>\n",
              "      <td>5150</td>\n",
              "      <td>U.S.A.</td>\n",
              "      <td>Venezuela</td>\n",
              "      <td>Sur del Lago, batch 1</td>\n",
              "      <td>0.72</td>\n",
              "      <td>3- B,S,C</td>\n",
              "      <td>3.00</td>\n",
              "    </tr>\n",
              "    <tr>\n",
              "      <th>5</th>\n",
              "      <td>5150</td>\n",
              "      <td>U.S.A.</td>\n",
              "      <td>Uganda</td>\n",
              "      <td>Semuliki Forest, batch 1</td>\n",
              "      <td>0.80</td>\n",
              "      <td>3- B,S,C</td>\n",
              "      <td>3.25</td>\n",
              "    </tr>\n",
              "    <tr>\n",
              "      <th>6</th>\n",
              "      <td>5150</td>\n",
              "      <td>U.S.A.</td>\n",
              "      <td>India</td>\n",
              "      <td>Anamalai, batch 1</td>\n",
              "      <td>0.68</td>\n",
              "      <td>3- B,S,C</td>\n",
              "      <td>3.50</td>\n",
              "    </tr>\n",
              "    <tr>\n",
              "      <th>7</th>\n",
              "      <td>A. Morin</td>\n",
              "      <td>France</td>\n",
              "      <td>Bolivia</td>\n",
              "      <td>Bolivia</td>\n",
              "      <td>0.70</td>\n",
              "      <td>4- B,S,C,L</td>\n",
              "      <td>3.50</td>\n",
              "    </tr>\n",
              "    <tr>\n",
              "      <th>8</th>\n",
              "      <td>A. Morin</td>\n",
              "      <td>France</td>\n",
              "      <td>Peru</td>\n",
              "      <td>Peru</td>\n",
              "      <td>0.63</td>\n",
              "      <td>4- B,S,C,L</td>\n",
              "      <td>3.75</td>\n",
              "    </tr>\n",
              "    <tr>\n",
              "      <th>9</th>\n",
              "      <td>A. Morin</td>\n",
              "      <td>France</td>\n",
              "      <td>Panama</td>\n",
              "      <td>Panama</td>\n",
              "      <td>0.70</td>\n",
              "      <td>4- B,S,C,L</td>\n",
              "      <td>2.75</td>\n",
              "    </tr>\n",
              "  </tbody>\n",
              "</table>\n",
              "</div>\n",
              "      <button class=\"colab-df-convert\" onclick=\"convertToInteractive('df-911bca12-a5cf-4d79-a265-530986f66c0d')\"\n",
              "              title=\"Convert this dataframe to an interactive table.\"\n",
              "              style=\"display:none;\">\n",
              "        \n",
              "  <svg xmlns=\"http://www.w3.org/2000/svg\" height=\"24px\"viewBox=\"0 0 24 24\"\n",
              "       width=\"24px\">\n",
              "    <path d=\"M0 0h24v24H0V0z\" fill=\"none\"/>\n",
              "    <path d=\"M18.56 5.44l.94 2.06.94-2.06 2.06-.94-2.06-.94-.94-2.06-.94 2.06-2.06.94zm-11 1L8.5 8.5l.94-2.06 2.06-.94-2.06-.94L8.5 2.5l-.94 2.06-2.06.94zm10 10l.94 2.06.94-2.06 2.06-.94-2.06-.94-.94-2.06-.94 2.06-2.06.94z\"/><path d=\"M17.41 7.96l-1.37-1.37c-.4-.4-.92-.59-1.43-.59-.52 0-1.04.2-1.43.59L10.3 9.45l-7.72 7.72c-.78.78-.78 2.05 0 2.83L4 21.41c.39.39.9.59 1.41.59.51 0 1.02-.2 1.41-.59l7.78-7.78 2.81-2.81c.8-.78.8-2.07 0-2.86zM5.41 20L4 18.59l7.72-7.72 1.47 1.35L5.41 20z\"/>\n",
              "  </svg>\n",
              "      </button>\n",
              "      \n",
              "  <style>\n",
              "    .colab-df-container {\n",
              "      display:flex;\n",
              "      flex-wrap:wrap;\n",
              "      gap: 12px;\n",
              "    }\n",
              "\n",
              "    .colab-df-convert {\n",
              "      background-color: #E8F0FE;\n",
              "      border: none;\n",
              "      border-radius: 50%;\n",
              "      cursor: pointer;\n",
              "      display: none;\n",
              "      fill: #1967D2;\n",
              "      height: 32px;\n",
              "      padding: 0 0 0 0;\n",
              "      width: 32px;\n",
              "    }\n",
              "\n",
              "    .colab-df-convert:hover {\n",
              "      background-color: #E2EBFA;\n",
              "      box-shadow: 0px 1px 2px rgba(60, 64, 67, 0.3), 0px 1px 3px 1px rgba(60, 64, 67, 0.15);\n",
              "      fill: #174EA6;\n",
              "    }\n",
              "\n",
              "    [theme=dark] .colab-df-convert {\n",
              "      background-color: #3B4455;\n",
              "      fill: #D2E3FC;\n",
              "    }\n",
              "\n",
              "    [theme=dark] .colab-df-convert:hover {\n",
              "      background-color: #434B5C;\n",
              "      box-shadow: 0px 1px 3px 1px rgba(0, 0, 0, 0.15);\n",
              "      filter: drop-shadow(0px 1px 2px rgba(0, 0, 0, 0.3));\n",
              "      fill: #FFFFFF;\n",
              "    }\n",
              "  </style>\n",
              "\n",
              "      <script>\n",
              "        const buttonEl =\n",
              "          document.querySelector('#df-911bca12-a5cf-4d79-a265-530986f66c0d button.colab-df-convert');\n",
              "        buttonEl.style.display =\n",
              "          google.colab.kernel.accessAllowed ? 'block' : 'none';\n",
              "\n",
              "        async function convertToInteractive(key) {\n",
              "          const element = document.querySelector('#df-911bca12-a5cf-4d79-a265-530986f66c0d');\n",
              "          const dataTable =\n",
              "            await google.colab.kernel.invokeFunction('convertToInteractive',\n",
              "                                                     [key], {});\n",
              "          if (!dataTable) return;\n",
              "\n",
              "          const docLinkHtml = 'Like what you see? Visit the ' +\n",
              "            '<a target=\"_blank\" href=https://colab.research.google.com/notebooks/data_table.ipynb>data table notebook</a>'\n",
              "            + ' to learn more about interactive tables.';\n",
              "          element.innerHTML = '';\n",
              "          dataTable['output_type'] = 'display_data';\n",
              "          await google.colab.output.renderOutput(dataTable, element);\n",
              "          const docLink = document.createElement('div');\n",
              "          docLink.innerHTML = docLinkHtml;\n",
              "          element.appendChild(docLink);\n",
              "        }\n",
              "      </script>\n",
              "    </div>\n",
              "  </div>\n",
              "  "
            ]
          },
          "metadata": {},
          "execution_count": 4
        }
      ]
    },
    {
      "cell_type": "code",
      "source": [
        "#CONVERTIR STRINGS A NÚMEROS\n",
        "label_encoder = preprocessing.LabelEncoder()\n",
        "cols2=[\"Company (Manufacturer)\",\"Company Location\", \"Country of Bean Origin\", \"Specific Bean Origin or Bar Name\", \"Ingredients\"]\n",
        "for col in cols2:\n",
        "  dataclean[col]=label_encoder.fit_transform(dataclean[col])\n",
        "  #print(label_encoder.classes_)\n",
        "dataclean.head(10)"
      ],
      "metadata": {
        "colab": {
          "base_uri": "https://localhost:8080/",
          "height": 363
        },
        "id": "6YO_veFReJYy",
        "outputId": "fb95bdac-a021-4226-9170-11c2d98577ad"
      },
      "execution_count": null,
      "outputs": [
        {
          "output_type": "execute_result",
          "data": {
            "text/plain": [
              "   Company (Manufacturer)  Company Location  Country of Bean Origin  \\\n",
              "0                       0                62                      52   \n",
              "1                       0                62                      13   \n",
              "2                       0                62                      28   \n",
              "3                       0                62                      16   \n",
              "4                       0                62                      60   \n",
              "5                       0                62                      58   \n",
              "6                       0                62                      23   \n",
              "7                       1                18                       3   \n",
              "8                       1                18                      36   \n",
              "9                       1                18                      34   \n",
              "\n",
              "   Specific Bean Origin or Bar Name  Cocoa Percent  Ingredients  Rating  \n",
              "0                               735           0.76            6    3.25  \n",
              "1                              1560           0.76            6    3.50  \n",
              "2                               159           0.76            6    3.75  \n",
              "3                               914           0.68            6    3.00  \n",
              "4                              1383           0.72            6    3.00  \n",
              "5                              1330           0.80            6    3.25  \n",
              "6                                83           0.68            6    3.50  \n",
              "7                               202           0.70           13    3.50  \n",
              "8                              1115           0.63           13    3.75  \n",
              "9                              1092           0.70           13    2.75  "
            ],
            "text/html": [
              "\n",
              "  <div id=\"df-5bfa90f6-afb9-4b9b-9d66-7a8b18d2bae3\">\n",
              "    <div class=\"colab-df-container\">\n",
              "      <div>\n",
              "<style scoped>\n",
              "    .dataframe tbody tr th:only-of-type {\n",
              "        vertical-align: middle;\n",
              "    }\n",
              "\n",
              "    .dataframe tbody tr th {\n",
              "        vertical-align: top;\n",
              "    }\n",
              "\n",
              "    .dataframe thead th {\n",
              "        text-align: right;\n",
              "    }\n",
              "</style>\n",
              "<table border=\"1\" class=\"dataframe\">\n",
              "  <thead>\n",
              "    <tr style=\"text-align: right;\">\n",
              "      <th></th>\n",
              "      <th>Company (Manufacturer)</th>\n",
              "      <th>Company Location</th>\n",
              "      <th>Country of Bean Origin</th>\n",
              "      <th>Specific Bean Origin or Bar Name</th>\n",
              "      <th>Cocoa Percent</th>\n",
              "      <th>Ingredients</th>\n",
              "      <th>Rating</th>\n",
              "    </tr>\n",
              "  </thead>\n",
              "  <tbody>\n",
              "    <tr>\n",
              "      <th>0</th>\n",
              "      <td>0</td>\n",
              "      <td>62</td>\n",
              "      <td>52</td>\n",
              "      <td>735</td>\n",
              "      <td>0.76</td>\n",
              "      <td>6</td>\n",
              "      <td>3.25</td>\n",
              "    </tr>\n",
              "    <tr>\n",
              "      <th>1</th>\n",
              "      <td>0</td>\n",
              "      <td>62</td>\n",
              "      <td>13</td>\n",
              "      <td>1560</td>\n",
              "      <td>0.76</td>\n",
              "      <td>6</td>\n",
              "      <td>3.50</td>\n",
              "    </tr>\n",
              "    <tr>\n",
              "      <th>2</th>\n",
              "      <td>0</td>\n",
              "      <td>62</td>\n",
              "      <td>28</td>\n",
              "      <td>159</td>\n",
              "      <td>0.76</td>\n",
              "      <td>6</td>\n",
              "      <td>3.75</td>\n",
              "    </tr>\n",
              "    <tr>\n",
              "      <th>3</th>\n",
              "      <td>0</td>\n",
              "      <td>62</td>\n",
              "      <td>16</td>\n",
              "      <td>914</td>\n",
              "      <td>0.68</td>\n",
              "      <td>6</td>\n",
              "      <td>3.00</td>\n",
              "    </tr>\n",
              "    <tr>\n",
              "      <th>4</th>\n",
              "      <td>0</td>\n",
              "      <td>62</td>\n",
              "      <td>60</td>\n",
              "      <td>1383</td>\n",
              "      <td>0.72</td>\n",
              "      <td>6</td>\n",
              "      <td>3.00</td>\n",
              "    </tr>\n",
              "    <tr>\n",
              "      <th>5</th>\n",
              "      <td>0</td>\n",
              "      <td>62</td>\n",
              "      <td>58</td>\n",
              "      <td>1330</td>\n",
              "      <td>0.80</td>\n",
              "      <td>6</td>\n",
              "      <td>3.25</td>\n",
              "    </tr>\n",
              "    <tr>\n",
              "      <th>6</th>\n",
              "      <td>0</td>\n",
              "      <td>62</td>\n",
              "      <td>23</td>\n",
              "      <td>83</td>\n",
              "      <td>0.68</td>\n",
              "      <td>6</td>\n",
              "      <td>3.50</td>\n",
              "    </tr>\n",
              "    <tr>\n",
              "      <th>7</th>\n",
              "      <td>1</td>\n",
              "      <td>18</td>\n",
              "      <td>3</td>\n",
              "      <td>202</td>\n",
              "      <td>0.70</td>\n",
              "      <td>13</td>\n",
              "      <td>3.50</td>\n",
              "    </tr>\n",
              "    <tr>\n",
              "      <th>8</th>\n",
              "      <td>1</td>\n",
              "      <td>18</td>\n",
              "      <td>36</td>\n",
              "      <td>1115</td>\n",
              "      <td>0.63</td>\n",
              "      <td>13</td>\n",
              "      <td>3.75</td>\n",
              "    </tr>\n",
              "    <tr>\n",
              "      <th>9</th>\n",
              "      <td>1</td>\n",
              "      <td>18</td>\n",
              "      <td>34</td>\n",
              "      <td>1092</td>\n",
              "      <td>0.70</td>\n",
              "      <td>13</td>\n",
              "      <td>2.75</td>\n",
              "    </tr>\n",
              "  </tbody>\n",
              "</table>\n",
              "</div>\n",
              "      <button class=\"colab-df-convert\" onclick=\"convertToInteractive('df-5bfa90f6-afb9-4b9b-9d66-7a8b18d2bae3')\"\n",
              "              title=\"Convert this dataframe to an interactive table.\"\n",
              "              style=\"display:none;\">\n",
              "        \n",
              "  <svg xmlns=\"http://www.w3.org/2000/svg\" height=\"24px\"viewBox=\"0 0 24 24\"\n",
              "       width=\"24px\">\n",
              "    <path d=\"M0 0h24v24H0V0z\" fill=\"none\"/>\n",
              "    <path d=\"M18.56 5.44l.94 2.06.94-2.06 2.06-.94-2.06-.94-.94-2.06-.94 2.06-2.06.94zm-11 1L8.5 8.5l.94-2.06 2.06-.94-2.06-.94L8.5 2.5l-.94 2.06-2.06.94zm10 10l.94 2.06.94-2.06 2.06-.94-2.06-.94-.94-2.06-.94 2.06-2.06.94z\"/><path d=\"M17.41 7.96l-1.37-1.37c-.4-.4-.92-.59-1.43-.59-.52 0-1.04.2-1.43.59L10.3 9.45l-7.72 7.72c-.78.78-.78 2.05 0 2.83L4 21.41c.39.39.9.59 1.41.59.51 0 1.02-.2 1.41-.59l7.78-7.78 2.81-2.81c.8-.78.8-2.07 0-2.86zM5.41 20L4 18.59l7.72-7.72 1.47 1.35L5.41 20z\"/>\n",
              "  </svg>\n",
              "      </button>\n",
              "      \n",
              "  <style>\n",
              "    .colab-df-container {\n",
              "      display:flex;\n",
              "      flex-wrap:wrap;\n",
              "      gap: 12px;\n",
              "    }\n",
              "\n",
              "    .colab-df-convert {\n",
              "      background-color: #E8F0FE;\n",
              "      border: none;\n",
              "      border-radius: 50%;\n",
              "      cursor: pointer;\n",
              "      display: none;\n",
              "      fill: #1967D2;\n",
              "      height: 32px;\n",
              "      padding: 0 0 0 0;\n",
              "      width: 32px;\n",
              "    }\n",
              "\n",
              "    .colab-df-convert:hover {\n",
              "      background-color: #E2EBFA;\n",
              "      box-shadow: 0px 1px 2px rgba(60, 64, 67, 0.3), 0px 1px 3px 1px rgba(60, 64, 67, 0.15);\n",
              "      fill: #174EA6;\n",
              "    }\n",
              "\n",
              "    [theme=dark] .colab-df-convert {\n",
              "      background-color: #3B4455;\n",
              "      fill: #D2E3FC;\n",
              "    }\n",
              "\n",
              "    [theme=dark] .colab-df-convert:hover {\n",
              "      background-color: #434B5C;\n",
              "      box-shadow: 0px 1px 3px 1px rgba(0, 0, 0, 0.15);\n",
              "      filter: drop-shadow(0px 1px 2px rgba(0, 0, 0, 0.3));\n",
              "      fill: #FFFFFF;\n",
              "    }\n",
              "  </style>\n",
              "\n",
              "      <script>\n",
              "        const buttonEl =\n",
              "          document.querySelector('#df-5bfa90f6-afb9-4b9b-9d66-7a8b18d2bae3 button.colab-df-convert');\n",
              "        buttonEl.style.display =\n",
              "          google.colab.kernel.accessAllowed ? 'block' : 'none';\n",
              "\n",
              "        async function convertToInteractive(key) {\n",
              "          const element = document.querySelector('#df-5bfa90f6-afb9-4b9b-9d66-7a8b18d2bae3');\n",
              "          const dataTable =\n",
              "            await google.colab.kernel.invokeFunction('convertToInteractive',\n",
              "                                                     [key], {});\n",
              "          if (!dataTable) return;\n",
              "\n",
              "          const docLinkHtml = 'Like what you see? Visit the ' +\n",
              "            '<a target=\"_blank\" href=https://colab.research.google.com/notebooks/data_table.ipynb>data table notebook</a>'\n",
              "            + ' to learn more about interactive tables.';\n",
              "          element.innerHTML = '';\n",
              "          dataTable['output_type'] = 'display_data';\n",
              "          await google.colab.output.renderOutput(dataTable, element);\n",
              "          const docLink = document.createElement('div');\n",
              "          docLink.innerHTML = docLinkHtml;\n",
              "          element.appendChild(docLink);\n",
              "        }\n",
              "      </script>\n",
              "    </div>\n",
              "  </div>\n",
              "  "
            ]
          },
          "metadata": {},
          "execution_count": 5
        }
      ]
    },
    {
      "cell_type": "code",
      "source": [
        "#CLASIFICAR EL RATING EN CLASES, DEFINIR RANGOS PARA FACILITAR LA CREACIÓN DE GRUPOS Y EL TRABAJO CON LOS DATOS\n",
        "\n",
        "# Basado en código propuesto por Tetsuya Sasaki: https://www.kaggle.com/code/sasakitetsuya/feature-engineering-and-classification-model\n",
        "\n",
        "# 4.0 - 5.0 = Outstanding='5'\n",
        "# 3.5 - 3.9 = Highly Recommended='4'\n",
        "# 3.0 - 3.4 = Recommended='3'\n",
        "# 2.0 - 2.9 = Disappointing='2'\n",
        "# 1.0 - 1.9 = Unpleasant='1'\n",
        "\n",
        "def Rating_Rank(rating):\n",
        "        if rating >= 4:\n",
        "            return 5\n",
        "        elif 3.5 <= rating <4:\n",
        "            return 4\n",
        "        elif 3.0 <= rating <3.5:\n",
        "            return 3\n",
        "        elif 2.0 <= rating <3.0:\n",
        "            return 2\n",
        "        else:\n",
        "            return 1\n",
        "\n",
        "dataclean.loc[:,'Rating_Rank']=dataclean.loc[:,'Rating'].apply(Rating_Rank) #Se puede cambiar la columna Rating por los nvos valores si se deja el mismo nombre, pero decidí dejarla\n",
        "dataclean.head()\n"
      ],
      "metadata": {
        "colab": {
          "base_uri": "https://localhost:8080/",
          "height": 206
        },
        "id": "LfA9pWXl5Ufv",
        "outputId": "3fbd5fc3-e4e1-41f1-f8af-116d1c8c0cb6"
      },
      "execution_count": null,
      "outputs": [
        {
          "output_type": "execute_result",
          "data": {
            "text/plain": [
              "   Company (Manufacturer)  Company Location  Country of Bean Origin  \\\n",
              "0                       0                62                      52   \n",
              "1                       0                62                      13   \n",
              "2                       0                62                      28   \n",
              "3                       0                62                      16   \n",
              "4                       0                62                      60   \n",
              "\n",
              "   Specific Bean Origin or Bar Name  Cocoa Percent  Ingredients  Rating  \\\n",
              "0                               735           0.76            6    3.25   \n",
              "1                              1560           0.76            6    3.50   \n",
              "2                               159           0.76            6    3.75   \n",
              "3                               914           0.68            6    3.00   \n",
              "4                              1383           0.72            6    3.00   \n",
              "\n",
              "   Rating_Rank  \n",
              "0            3  \n",
              "1            4  \n",
              "2            4  \n",
              "3            3  \n",
              "4            3  "
            ],
            "text/html": [
              "\n",
              "  <div id=\"df-2d020a5d-4b18-4587-983d-c75bbcf6f051\">\n",
              "    <div class=\"colab-df-container\">\n",
              "      <div>\n",
              "<style scoped>\n",
              "    .dataframe tbody tr th:only-of-type {\n",
              "        vertical-align: middle;\n",
              "    }\n",
              "\n",
              "    .dataframe tbody tr th {\n",
              "        vertical-align: top;\n",
              "    }\n",
              "\n",
              "    .dataframe thead th {\n",
              "        text-align: right;\n",
              "    }\n",
              "</style>\n",
              "<table border=\"1\" class=\"dataframe\">\n",
              "  <thead>\n",
              "    <tr style=\"text-align: right;\">\n",
              "      <th></th>\n",
              "      <th>Company (Manufacturer)</th>\n",
              "      <th>Company Location</th>\n",
              "      <th>Country of Bean Origin</th>\n",
              "      <th>Specific Bean Origin or Bar Name</th>\n",
              "      <th>Cocoa Percent</th>\n",
              "      <th>Ingredients</th>\n",
              "      <th>Rating</th>\n",
              "      <th>Rating_Rank</th>\n",
              "    </tr>\n",
              "  </thead>\n",
              "  <tbody>\n",
              "    <tr>\n",
              "      <th>0</th>\n",
              "      <td>0</td>\n",
              "      <td>62</td>\n",
              "      <td>52</td>\n",
              "      <td>735</td>\n",
              "      <td>0.76</td>\n",
              "      <td>6</td>\n",
              "      <td>3.25</td>\n",
              "      <td>3</td>\n",
              "    </tr>\n",
              "    <tr>\n",
              "      <th>1</th>\n",
              "      <td>0</td>\n",
              "      <td>62</td>\n",
              "      <td>13</td>\n",
              "      <td>1560</td>\n",
              "      <td>0.76</td>\n",
              "      <td>6</td>\n",
              "      <td>3.50</td>\n",
              "      <td>4</td>\n",
              "    </tr>\n",
              "    <tr>\n",
              "      <th>2</th>\n",
              "      <td>0</td>\n",
              "      <td>62</td>\n",
              "      <td>28</td>\n",
              "      <td>159</td>\n",
              "      <td>0.76</td>\n",
              "      <td>6</td>\n",
              "      <td>3.75</td>\n",
              "      <td>4</td>\n",
              "    </tr>\n",
              "    <tr>\n",
              "      <th>3</th>\n",
              "      <td>0</td>\n",
              "      <td>62</td>\n",
              "      <td>16</td>\n",
              "      <td>914</td>\n",
              "      <td>0.68</td>\n",
              "      <td>6</td>\n",
              "      <td>3.00</td>\n",
              "      <td>3</td>\n",
              "    </tr>\n",
              "    <tr>\n",
              "      <th>4</th>\n",
              "      <td>0</td>\n",
              "      <td>62</td>\n",
              "      <td>60</td>\n",
              "      <td>1383</td>\n",
              "      <td>0.72</td>\n",
              "      <td>6</td>\n",
              "      <td>3.00</td>\n",
              "      <td>3</td>\n",
              "    </tr>\n",
              "  </tbody>\n",
              "</table>\n",
              "</div>\n",
              "      <button class=\"colab-df-convert\" onclick=\"convertToInteractive('df-2d020a5d-4b18-4587-983d-c75bbcf6f051')\"\n",
              "              title=\"Convert this dataframe to an interactive table.\"\n",
              "              style=\"display:none;\">\n",
              "        \n",
              "  <svg xmlns=\"http://www.w3.org/2000/svg\" height=\"24px\"viewBox=\"0 0 24 24\"\n",
              "       width=\"24px\">\n",
              "    <path d=\"M0 0h24v24H0V0z\" fill=\"none\"/>\n",
              "    <path d=\"M18.56 5.44l.94 2.06.94-2.06 2.06-.94-2.06-.94-.94-2.06-.94 2.06-2.06.94zm-11 1L8.5 8.5l.94-2.06 2.06-.94-2.06-.94L8.5 2.5l-.94 2.06-2.06.94zm10 10l.94 2.06.94-2.06 2.06-.94-2.06-.94-.94-2.06-.94 2.06-2.06.94z\"/><path d=\"M17.41 7.96l-1.37-1.37c-.4-.4-.92-.59-1.43-.59-.52 0-1.04.2-1.43.59L10.3 9.45l-7.72 7.72c-.78.78-.78 2.05 0 2.83L4 21.41c.39.39.9.59 1.41.59.51 0 1.02-.2 1.41-.59l7.78-7.78 2.81-2.81c.8-.78.8-2.07 0-2.86zM5.41 20L4 18.59l7.72-7.72 1.47 1.35L5.41 20z\"/>\n",
              "  </svg>\n",
              "      </button>\n",
              "      \n",
              "  <style>\n",
              "    .colab-df-container {\n",
              "      display:flex;\n",
              "      flex-wrap:wrap;\n",
              "      gap: 12px;\n",
              "    }\n",
              "\n",
              "    .colab-df-convert {\n",
              "      background-color: #E8F0FE;\n",
              "      border: none;\n",
              "      border-radius: 50%;\n",
              "      cursor: pointer;\n",
              "      display: none;\n",
              "      fill: #1967D2;\n",
              "      height: 32px;\n",
              "      padding: 0 0 0 0;\n",
              "      width: 32px;\n",
              "    }\n",
              "\n",
              "    .colab-df-convert:hover {\n",
              "      background-color: #E2EBFA;\n",
              "      box-shadow: 0px 1px 2px rgba(60, 64, 67, 0.3), 0px 1px 3px 1px rgba(60, 64, 67, 0.15);\n",
              "      fill: #174EA6;\n",
              "    }\n",
              "\n",
              "    [theme=dark] .colab-df-convert {\n",
              "      background-color: #3B4455;\n",
              "      fill: #D2E3FC;\n",
              "    }\n",
              "\n",
              "    [theme=dark] .colab-df-convert:hover {\n",
              "      background-color: #434B5C;\n",
              "      box-shadow: 0px 1px 3px 1px rgba(0, 0, 0, 0.15);\n",
              "      filter: drop-shadow(0px 1px 2px rgba(0, 0, 0, 0.3));\n",
              "      fill: #FFFFFF;\n",
              "    }\n",
              "  </style>\n",
              "\n",
              "      <script>\n",
              "        const buttonEl =\n",
              "          document.querySelector('#df-2d020a5d-4b18-4587-983d-c75bbcf6f051 button.colab-df-convert');\n",
              "        buttonEl.style.display =\n",
              "          google.colab.kernel.accessAllowed ? 'block' : 'none';\n",
              "\n",
              "        async function convertToInteractive(key) {\n",
              "          const element = document.querySelector('#df-2d020a5d-4b18-4587-983d-c75bbcf6f051');\n",
              "          const dataTable =\n",
              "            await google.colab.kernel.invokeFunction('convertToInteractive',\n",
              "                                                     [key], {});\n",
              "          if (!dataTable) return;\n",
              "\n",
              "          const docLinkHtml = 'Like what you see? Visit the ' +\n",
              "            '<a target=\"_blank\" href=https://colab.research.google.com/notebooks/data_table.ipynb>data table notebook</a>'\n",
              "            + ' to learn more about interactive tables.';\n",
              "          element.innerHTML = '';\n",
              "          dataTable['output_type'] = 'display_data';\n",
              "          await google.colab.output.renderOutput(dataTable, element);\n",
              "          const docLink = document.createElement('div');\n",
              "          docLink.innerHTML = docLinkHtml;\n",
              "          element.appendChild(docLink);\n",
              "        }\n",
              "      </script>\n",
              "    </div>\n",
              "  </div>\n",
              "  "
            ]
          },
          "metadata": {},
          "execution_count": 6
        }
      ]
    },
    {
      "cell_type": "code",
      "source": [
        "#Generar un archivo csv con los datos limpios.\n",
        "dataclean.to_csv(\"Datos procesados.csv\",index=False)"
      ],
      "metadata": {
        "id": "Ei5mGJcPpjux"
      },
      "execution_count": null,
      "outputs": []
    },
    {
      "cell_type": "code",
      "source": [
        "#SEPARACIÓN CONJUNTO ENTRENAMIENTO, VALIDACIÓN Y PRUEBA (VER CLASE MARTES 3 DE MAYO - MIN 29)\n",
        "#RECORDAR TEMA DE CROSS-VALIDATION\n",
        "\n",
        "#SEPARACIÓN CONJUNTO ENTRENAMIENTO Y PRUEBA\n",
        "\n",
        "y = dataclean['Rating_Rank'].values #Vamos a trabajar con los nuevos valores\n",
        "X = dataclean[['Company (Manufacturer)','Company Location','Country of Bean Origin','Specific Bean Origin or Bar Name','Cocoa Percent','Ingredients']].values\n",
        "\n",
        "#  X_train, X_test, y_train, y_test = train_test_split(X, y, random_state=0,test_size=0.1) \n",
        "\n",
        "\n",
        "# TRAINING Y TEST -> 90% ; VALIDATION -> 10%\n",
        "# https://towardsdatascience.com/how-to-split-data-into-three-sets-train-validation-and-test-and-why-e50d22d3e54c\n",
        "\n",
        "# 70:10:20 for train:valid:test dataset\n",
        "train_size=0.7\n",
        "\n",
        "# In the first step we will split the data in training and remaining dataset\n",
        "X_train, X_rem, y_train, y_rem = train_test_split(X,y, train_size=0.7)\n",
        "\n",
        "# Now since we want the valid and test size to be 10% and 20% \n",
        "# we have to define test_size=0.6 (that is 60% of remaining data)\n",
        "test_size = 0.6\n",
        "X_valid, X_test, y_valid, y_test = train_test_split(X_rem,y_rem, test_size=0.6)"
      ],
      "metadata": {
        "id": "5YZeCX53f2JM"
      },
      "execution_count": null,
      "outputs": []
    },
    {
      "cell_type": "code",
      "source": [
        "#ESCALIZACIÓN DE LOS DATOS (70% y 20%)\n",
        "# Calcula la media y la desviación estandar del conjunto entrenado para escalizar todos los datos\n",
        "scaler = StandardScaler()\n",
        "scaler.fit(X_train)\n",
        "\n",
        "X_train = scaler.transform(X_train)\n",
        "\n",
        "X_test = scaler.transform(X_test)  \n",
        "X_valid = scaler.transform(X_valid)   #Escalizamos los de validación"
      ],
      "metadata": {
        "id": "YL_g6IkpsjrE"
      },
      "execution_count": null,
      "outputs": []
    },
    {
      "cell_type": "markdown",
      "source": [
        "## **NO CORRER PCA**"
      ],
      "metadata": {
        "id": "fyyi_WtWD6bx"
      }
    },
    {
      "cell_type": "code",
      "source": [
        "#PCA\n",
        "\n",
        "#Preparar figura 2D\n",
        "fig = plt.figure(2, figsize=(4, 3))\n",
        "n=6\n",
        "\n",
        "pca = decomposition.PCA(n_components=n)\n",
        "pca.fit(X_train)\n",
        "#PCA con 2 componentes al conjunto de características de entrenamiento y de validación\n",
        "X_train = pca.transform(X_train)\n",
        "\n",
        "y_train = np.choose(y_train, [1,2,3,4,5,0]).astype(float) # 1,2,3,4,5, 0\n",
        "plt.scatter(X_train[:, 0], X_train[:, 1],  c=y_train,)\n",
        "\n",
        "plt.show()\n",
        "print(\"Pesos de PCA:\",pca.explained_variance_ratio_)"
      ],
      "metadata": {
        "colab": {
          "base_uri": "https://localhost:8080/",
          "height": 229
        },
        "id": "a342udwnttsl",
        "outputId": "fb216b03-622f-424a-c6c9-d57a2ecd99f4"
      },
      "execution_count": null,
      "outputs": [
        {
          "output_type": "display_data",
          "data": {
            "text/plain": [
              "<Figure size 288x216 with 1 Axes>"
            ],
            "image/png": "[encoded data removed]"
          },
          "metadata": {
            "needs_background": "light"
          }
        },
        {
          "output_type": "stream",
          "name": "stdout",
          "text": [
            "Pesos de PCA: [0.22309535 0.20027007 0.17386696 0.14934594 0.13078163 0.12264004]\n"
          ]
        }
      ]
    },
    {
      "cell_type": "code",
      "source": [
        "#conservar el 97%\n",
        "print(\"Varianza explicada total de una reducción a N componentes principales: \", sum(pca.explained_variance_ratio_))"
      ],
      "metadata": {
        "colab": {
          "base_uri": "https://localhost:8080/"
        },
        "id": "KQJDQo7UMiSF",
        "outputId": "347ab556-d320-4ace-cc14-f6e2b54e6d3b"
      },
      "execution_count": null,
      "outputs": [
        {
          "output_type": "stream",
          "name": "stdout",
          "text": [
            "Varianza explicada total de una reducción a N componentes principales:  0.9999999999999999\n"
          ]
        }
      ]
    },
    {
      "cell_type": "markdown",
      "source": [
        "Teniendo en cuenta el resultado anterior, NO se realiza PCA. Reducir su dimensionalidad NO cumple con el criterio del 97%. El último componente tiene un 12% reduciendo se obtendría un resultado menor a 97%.\n"
      ],
      "metadata": {
        "id": "ElOw_7MuNP78"
      }
    },
    {
      "cell_type": "code",
      "source": [
        "#PCA con N componentes al conjunto de características de entrenamiento y de validación\n",
        "\n",
        "print(\"shape of X_train\", X_train.shape)\n",
        "expl = pca.explained_variance_ratio_\n",
        "print(expl)\n",
        "print('sum:',sum(expl[0:6]))\n",
        "\n",
        "plt.plot(np.cumsum(pca.explained_variance_ratio_))\n",
        "plt.xlabel('number of components')\n",
        "plt.ylabel('cumulative explained variance')\n",
        "plt.show()"
      ],
      "metadata": {
        "id": "P24VwLePN1jh",
        "colab": {
          "base_uri": "https://localhost:8080/",
          "height": 609
        },
        "outputId": "db201893-4b84-4c1c-b744-6838c0670c0c"
      },
      "execution_count": null,
      "outputs": [
        {
          "output_type": "stream",
          "name": "stdout",
          "text": [
            "shape of X_train (2198, 6)\n",
            "[0.22284717 0.19879619 0.17504964 0.1461606  0.13304843 0.12409796]\n",
            "sum: 1.0\n"
          ]
        },
        {
          "output_type": "display_data",
          "data": {
            "text/plain": [
              "<Figure size 1152x648 with 1 Axes>"
            ],
            "image/png": "[encoded data removed]"
          },
          "metadata": {}
        }
      ]
    },
    {
      "cell_type": "code",
      "source": [
        "print(\"shape of X_test2\", X_test.shape)\n",
        "expl1 = pca.explained_variance_ratio_\n",
        "print(expl1)\n",
        "print('sum:',sum(expl1[0:6]))\n",
        "\n",
        "plt.plot(np.cumsum(pca.explained_variance_ratio_))\n",
        "plt.xlabel('number of components')\n",
        "plt.ylabel('cumulative explained variance')\n",
        "plt.show()"
      ],
      "metadata": {
        "id": "4uLBPciv67qo",
        "colab": {
          "base_uri": "https://localhost:8080/",
          "height": 609
        },
        "outputId": "41bc5881-694a-4071-f159-1c64f266df35"
      },
      "execution_count": null,
      "outputs": [
        {
          "output_type": "stream",
          "name": "stdout",
          "text": [
            "shape of X_test2 (245, 6)\n",
            "[0.22284717 0.19879619 0.17504964 0.1461606  0.13304843 0.12409796]\n",
            "sum: 1.0\n"
          ]
        },
        {
          "output_type": "display_data",
          "data": {
            "text/plain": [
              "<Figure size 1152x648 with 1 Axes>"
            ],
            "image/png": "[encoded data removed]"
          },
          "metadata": {}
        }
      ]
    },
    {
      "cell_type": "code",
      "source": [
        "#RECORDAR QUE SE DEBE HACER CROSS-VALIDATION ESE TEMA SE VIO EN UNA DE LAS ÚLTIMAS CLASES"
      ],
      "metadata": {
        "id": "jiLeRz5bQZDH"
      },
      "execution_count": null,
      "outputs": []
    },
    {
      "cell_type": "code",
      "source": [
        "#Selección de métricas de evaluación \n",
        "# Coeficiente de determinación y una gráfica bien poderosa usando Seaborn por ejemplo (seaborn.regplot)\n",
        "\n",
        "y =(X_train.shape)\n",
        "f =(X_test.shape)\n",
        "r2 = r2_score(y, f)\n",
        "print('r2 score for a model which predicts mean value always is', r2)\n"
      ],
      "metadata": {
        "id": "G9hSiCduPLmN",
        "colab": {
          "base_uri": "https://localhost:8080/"
        },
        "outputId": "5d7ff8bd-d150-4011-a4cd-bb7acec645cc"
      },
      "execution_count": null,
      "outputs": [
        {
          "output_type": "stream",
          "name": "stdout",
          "text": [
            "r2 score for a model which predicts mean value always is -0.5876449364643828\n"
          ]
        }
      ]
    },
    {
      "cell_type": "code",
      "source": [
        "sb.regplot(data=dataclean, y='Rating_Rank', x= 'Cocoa Percent', scatter=True,color='Blue',order=1,label=\"orden=1\")\n",
        "plt.legend(loc='upper right')\n",
        "#print(X_train[1])\n",
        "#print(X_test2[0])\n",
        "print(X)\n",
        "print(y)\n",
        "#sb.regplot(dataclean, x=X_train[:,0], y= X_train[1], scatter=True,color='Blue',order=1,label=\"orden=1\")\n",
        "#plt.legend(loc='upper right')"
      ],
      "metadata": {
        "colab": {
          "base_uri": "https://localhost:8080/",
          "height": 693
        },
        "id": "LeN_s3LJ2HrW",
        "outputId": "dce77f5d-76da-402f-a258-9f38800c0b70"
      },
      "execution_count": null,
      "outputs": [
        {
          "output_type": "stream",
          "name": "stdout",
          "text": [
            "[[0.00e+00 6.20e+01 5.20e+01 7.35e+02 7.60e-01 6.00e+00]\n",
            " [0.00e+00 6.20e+01 1.30e+01 1.56e+03 7.60e-01 6.00e+00]\n",
            " [0.00e+00 6.20e+01 2.80e+01 1.59e+02 7.60e-01 6.00e+00]\n",
            " ...\n",
            " [5.35e+02 3.00e+00 2.00e+00 4.79e+02 7.50e-01 6.00e+00]\n",
            " [5.35e+02 3.00e+00 9.00e+00 9.86e+02 7.00e-01 6.00e+00]\n",
            " [5.35e+02 3.00e+00 1.00e+00 9.31e+02 7.20e-01 6.00e+00]]\n",
            "(2198, 6)\n"
          ]
        },
        {
          "output_type": "display_data",
          "data": {
            "text/plain": [
              "<Figure size 1152x648 with 1 Axes>"
            ],
            "image/png": "[encoded data removed]"
          },
          "metadata": {}
        }
      ]
    },
    {
      "cell_type": "markdown",
      "source": [
        "# **KNN**"
      ],
      "metadata": {
        "id": "vedLZNLyDoT6"
      }
    },
    {
      "cell_type": "code",
      "source": [
        "# CROSS-VALIDATION Y OPTIMIZACIÓN DE HIPERPARAMETROS CON GRID SEARCH\n",
        "\n",
        "grid = { \n",
        "    'n_neighbors': range(1,50),\n",
        "    'weights' : [\"uniform\",\"distance\"],\n",
        "    'metric' : [\"euclidean\",\"manhattan\",\"chebyshev\",\"minkowski\"],\n",
        "    'algorithm' : [\"auto\", \"ball_tree\", \"kd_tree\", \"brute\"],\n",
        "}\n",
        "\n",
        "\n",
        "rf_cv = GridSearchCV(estimator= KNeighborsClassifier(), param_grid=grid, cv= 5)\n",
        "rf_cv.fit(X_train, y_train)\n",
        "\n"
      ],
      "metadata": {
        "id": "ZC6N0G7RoeyD",
        "colab": {
          "base_uri": "https://localhost:8080/"
        },
        "outputId": "bda4b011-111a-4e27-b757-6e832b344424"
      },
      "execution_count": null,
      "outputs": [
        {
          "output_type": "execute_result",
          "data": {
            "text/plain": [
              "GridSearchCV(cv=5, estimator=KNeighborsClassifier(),\n",
              "             param_grid={'algorithm': ['auto', 'ball_tree', 'kd_tree', 'brute'],\n",
              "                         'metric': ['euclidean', 'manhattan', 'chebyshev',\n",
              "                                    'minkowski'],\n",
              "                         'n_neighbors': range(1, 50),\n",
              "                         'weights': ['uniform', 'distance']})"
            ]
          },
          "metadata": {},
          "execution_count": 19
        }
      ]
    },
    {
      "cell_type": "code",
      "source": [
        "#Hiperparametros optimizados usando GridSearchCV\n",
        "rf_cv.best_params_"
      ],
      "metadata": {
        "id": "AuTLqjkyprNK",
        "colab": {
          "base_uri": "https://localhost:8080/"
        },
        "outputId": "0a95ca50-3d5e-4543-bf9f-286b3fe6761e"
      },
      "execution_count": null,
      "outputs": [
        {
          "output_type": "execute_result",
          "data": {
            "text/plain": [
              "{'algorithm': 'ball_tree',\n",
              " 'metric': 'chebyshev',\n",
              " 'n_neighbors': 43,\n",
              " 'weights': 'uniform'}"
            ]
          },
          "metadata": {},
          "execution_count": 20
        }
      ]
    },
    {
      "cell_type": "code",
      "source": [
        "# MODELO OPTIMIZADO KNN\n",
        "KNN = KNeighborsClassifier(n_neighbors =43,weights='uniform',metric='chebyshev', metric_params=None,algorithm='ball_tree')\n",
        "\n",
        "KNN.fit(X_train, y_train)\n",
        "y_test_predicted = KNN.predict(X_test)\n",
        "y_test_scores = KNN.predict_proba(X_test)\n",
        "MCC = r2_score(y_test, y_test_predicted)\n",
        "print(\"R2 = \", MCC)\n",
        "ACC = accuracy_score(y_test, y_test_predicted)\n",
        "print(\"Accuracy\", ACC)"
      ],
      "metadata": {
        "colab": {
          "base_uri": "https://localhost:8080/"
        },
        "id": "FHOt5-02yWsD",
        "outputId": "a9feca07-28c5-4bf9-be8c-bd4a598b3f1f"
      },
      "execution_count": null,
      "outputs": [
        {
          "output_type": "stream",
          "name": "stdout",
          "text": [
            "R2 =  -0.47131927598432477\n",
            "Accuracy 0.3477272727272727\n"
          ]
        }
      ]
    },
    {
      "cell_type": "markdown",
      "source": [
        "## **REGRESIÓN LOGÍSTICA**\n"
      ],
      "metadata": {
        "id": "UpTHLXssGYif"
      }
    },
    {
      "cell_type": "code",
      "source": [
        "# CROSS-VALIDATION Y OPTIMIZACIÓN DE HIPERPARAMETROS CON GRID SEARCH\n",
        "\n",
        "grid = { \n",
        "   # 'penalty': [\"l2\",\"none\"],\n",
        "    'C' : np.arange(0.001,0.03,0.001),\n",
        "    #'solver' : [\"newton-cg\", \"lbfgs\", \"sag\", \"saga\"],\n",
        "}\n",
        "\n",
        "\n",
        "rf_cv = GridSearchCV(estimator= LogisticRegression(), param_grid=grid, cv= 5)\n",
        "rf_cv.fit(X_train, y_train)\n"
      ],
      "metadata": {
        "colab": {
          "base_uri": "https://localhost:8080/"
        },
        "id": "us3ok4PIGfyv",
        "outputId": "1632c682-9beb-40e4-8889-52d338de8259"
      },
      "execution_count": null,
      "outputs": [
        {
          "output_type": "execute_result",
          "data": {
            "text/plain": [
              "GridSearchCV(cv=5, estimator=LogisticRegression(),\n",
              "             param_grid={'C': array([0.001, 0.002, 0.003, 0.004, 0.005, 0.006, 0.007, 0.008, 0.009,\n",
              "       0.01 , 0.011, 0.012, 0.013, 0.014, 0.015, 0.016, 0.017, 0.018,\n",
              "       0.019, 0.02 , 0.021, 0.022, 0.023, 0.024, 0.025, 0.026, 0.027,\n",
              "       0.028, 0.029])})"
            ]
          },
          "metadata": {},
          "execution_count": 30
        }
      ]
    },
    {
      "cell_type": "code",
      "source": [
        "#Hiperparametros optimizados usando GridSearchCV\n",
        "rf_cv.best_params_"
      ],
      "metadata": {
        "id": "XvViwoGnIgQ-",
        "colab": {
          "base_uri": "https://localhost:8080/"
        },
        "outputId": "d119010a-4b93-45ad-d400-cebeb8d3f24a"
      },
      "execution_count": null,
      "outputs": [
        {
          "output_type": "execute_result",
          "data": {
            "text/plain": [
              "{'C': 0.015}"
            ]
          },
          "metadata": {},
          "execution_count": 31
        }
      ]
    },
    {
      "cell_type": "code",
      "source": [
        "# MODELO OPTIMIZADO REGRESIÓN LOGÍSTICA\n",
        "LR = LogisticRegression( max_iter=1000, C=0.015, random_state=0) #penalty='l2',, solver='newton-cg'\n",
        "\n",
        "LR.fit(X_train, y_train)\n",
        "y_test_predicted = LR.predict(X_test)\n",
        "y_test_scores = LR.predict_proba(X_test)\n",
        "MCC = matthews_corrcoef(y_test, y_test_predicted)\n",
        "print(\"MCC = \", MCC)\n",
        "ACC = accuracy_score(y_test, y_test_predicted)\n",
        "print(\"Accuracy\", ACC)"
      ],
      "metadata": {
        "colab": {
          "base_uri": "https://localhost:8080/"
        },
        "id": "4e3MwSrdIhrf",
        "outputId": "83150759-04d8-453c-ac8f-9afc3284bd74"
      },
      "execution_count": null,
      "outputs": [
        {
          "output_type": "stream",
          "name": "stdout",
          "text": [
            "MCC =  0.043336783155627674\n",
            "Accuracy 0.3931818181818182\n"
          ]
        }
      ]
    },
    {
      "cell_type": "markdown",
      "source": [
        "COMPARACIÓN MODELOS\n"
      ],
      "metadata": {
        "id": "fhx0imusLsrv"
      }
    },
    {
      "cell_type": "code",
      "source": [
        "#Gráfica comparación tomada\n",
        "# prepare configuration for cross validation test harness\n",
        "#seed = 7\n",
        "# prepare models\n",
        "models = []\n",
        "models.append(('LR', LogisticRegression()))\n",
        "models.append(('LDA', LinearDiscriminantAnalysis()))\n",
        "models.append(('KNN', KNeighborsClassifier()))\n",
        "models.append(('CART', DecisionTreeClassifier()))\n",
        "models.append(('NB', GaussianNB()))\n",
        "models.append(('SVM', SVC()))\n",
        "# evaluate each model in turn\n",
        "results = []\n",
        "names = []\n",
        "scoring = 'accuracy' #'accuracy'\n",
        "for name, model in models:\n",
        "\tkfold = model_selection.KFold(n_splits=10) #, random_state=seed\n",
        "\tcv_results = model_selection.cross_val_score(model, X_train, y_train, cv=kfold, scoring=scoring)\n",
        "\tresults.append(cv_results)\n",
        "\tnames.append(name)\n",
        "\tmsg = \"%s: %f (%f)\" % (name, cv_results.mean(), cv_results.std())\n",
        "\tprint(msg)\n",
        "# boxplot algorithm comparison\n",
        "fig = plt.figure()\n",
        "fig.suptitle('Algorithm Comparison')\n",
        "ax = fig.add_subplot(111)\n",
        "plt.boxplot(results)\n",
        "ax.set_xticklabels(names)\n",
        "plt.show()"
      ],
      "metadata": {
        "colab": {
          "base_uri": "https://localhost:8080/",
          "height": 713
        },
        "id": "X2PqTlCZLxFO",
        "outputId": "f8a07a44-4e85-4068-b274-9d5c478534b1"
      },
      "execution_count": null,
      "outputs": [
        {
          "output_type": "stream",
          "name": "stdout",
          "text": [
            "LR: 0.397661 (0.026283)\n",
            "LDA: 0.400000 (0.027329)\n",
            "KNN: 0.342105 (0.030750)\n",
            "CART: 0.363743 (0.044751)\n",
            "NB: 0.387135 (0.026645)\n",
            "SVM: 0.388889 (0.040789)\n"
          ]
        },
        {
          "output_type": "display_data",
          "data": {
            "text/plain": [
              "<Figure size 1152x648 with 1 Axes>"
            ],
            "image/png": "[encoded data removed]"
          },
          "metadata": {}
        }
      ]
    },
    {
      "cell_type": "markdown",
      "source": [
        "# **SVM**"
      ],
      "metadata": {
        "id": "4GAR9v6qO5Q0"
      }
    },
    {
      "cell_type": "code",
      "source": [
        "# CROSS-VALIDATION Y OPTIMIZACIÓN DE HIPERPARAMETROS CON GRID SEARCH\n",
        "\n",
        "grid = { \n",
        "    'C' : [0.1, 1, 10, 100, 1000],\n",
        "    'gamma': [1, 0.1, 0.01, 0.001, 0.0001],\n",
        "    'kernel' : ['rbf'],\n",
        "}\n",
        "\n",
        "\n",
        "rf_cv = GridSearchCV(estimator= SVC(), param_grid=grid, cv= 5)\n",
        "rf_cv.fit(X_train, y_train)\n"
      ],
      "metadata": {
        "id": "HAqTGoqFO_L7",
        "colab": {
          "base_uri": "https://localhost:8080/"
        },
        "outputId": "33d31bcd-4fec-4476-d70a-c210aeb297c9"
      },
      "execution_count": null,
      "outputs": [
        {
          "output_type": "stream",
          "name": "stderr",
          "text": [
            "/usr/local/lib/python3.7/dist-packages/sklearn/model_selection/_split.py:680: UserWarning: The least populated class in y has only 3 members, which is less than n_splits=5.\n",
            "  UserWarning,\n"
          ]
        },
        {
          "output_type": "execute_result",
          "data": {
            "text/plain": [
              "GridSearchCV(cv=5, estimator=SVC(),\n",
              "             param_grid={'C': [0.1, 1, 10, 100, 1000],\n",
              "                         'gamma': [1, 0.1, 0.01, 0.001, 0.0001],\n",
              "                         'kernel': ['rbf']})"
            ]
          },
          "metadata": {},
          "execution_count": 41
        }
      ]
    },
    {
      "cell_type": "code",
      "source": [
        "#Hiperparametros optimizados usando GridSearchCV\n",
        "rf_cv.best_params_\n"
      ],
      "metadata": {
        "colab": {
          "base_uri": "https://localhost:8080/"
        },
        "id": "AWbl67inRclj",
        "outputId": "827af024-ddb0-456c-9a43-c046db1b1639"
      },
      "execution_count": null,
      "outputs": [
        {
          "output_type": "execute_result",
          "data": {
            "text/plain": [
              "{'C': 1000, 'gamma': 0.001, 'kernel': 'rbf'}"
            ]
          },
          "metadata": {},
          "execution_count": 42
        }
      ]
    },
    {
      "cell_type": "code",
      "source": [
        "# MODELO OPTIMIZADO\n",
        "SVM = SVC( C=1000, kernel='rbf', gamma=0.001, shrinking=True,probability=True, random_state=None) \n",
        "\n",
        "SVM.fit(X_train, y_train)\n",
        "y_test_predicted = SVM.predict(X_test)\n",
        "y_test_scores = SVM.predict_proba(X_test)\n",
        "MCC = matthews_corrcoef(y_test, y_test_predicted)\n",
        "print(\"MCC = \", MCC)\n",
        "ACC = accuracy_score(y_test, y_test_predicted)\n",
        "print(\"Accuracy\", ACC)"
      ],
      "metadata": {
        "colab": {
          "base_uri": "https://localhost:8080/"
        },
        "id": "uqflzJ7cUta-",
        "outputId": "a9f2dbea-0d8e-4611-9af2-818ae481d756"
      },
      "execution_count": null,
      "outputs": [
        {
          "output_type": "stream",
          "name": "stdout",
          "text": [
            "MCC =  0.00846477575405272\n",
            "Accuracy 0.38636363636363635\n"
          ]
        }
      ]
    },
    {
      "cell_type": "markdown",
      "source": [
        "# **Decision Tree**"
      ],
      "metadata": {
        "id": "HPdTVw0QghO-"
      }
    },
    {
      "cell_type": "code",
      "source": [
        "# CROSS-VALIDATION Y OPTIMIZACIÓN DE HIPERPARAMETROS CON GRID SEARCH\n",
        "\n",
        "grid = { \n",
        "    'criterion' : ['gini','entropy'],\n",
        "    'max_depth': range(1,10),\n",
        "    'min_samples_split': range(1,10),\n",
        "    'min_samples_leaf': range(1,5)\n",
        "}\n",
        "\n",
        "\n",
        "rf_cv = GridSearchCV(estimator= DecisionTreeClassifier(), param_grid=grid, cv= 5)\n",
        "rf_cv.fit(X_train, y_train)\n"
      ],
      "metadata": {
        "id": "H1Zp4bNJlNFr"
      },
      "execution_count": null,
      "outputs": []
    },
    {
      "cell_type": "code",
      "source": [
        "#Hiperparametros optimizados usando GridSearchCV\n",
        "rf_cv.best_params_\n"
      ],
      "metadata": {
        "colab": {
          "base_uri": "https://localhost:8080/"
        },
        "id": "ubCFpjk7nOHu",
        "outputId": "f7669be4-aa0f-4a12-aee8-bc25850297d0"
      },
      "execution_count": null,
      "outputs": [
        {
          "output_type": "execute_result",
          "data": {
            "text/plain": [
              "{'criterion': 'entropy',\n",
              " 'max_depth': 9,\n",
              " 'min_samples_leaf': 1,\n",
              " 'min_samples_split': 4}"
            ]
          },
          "metadata": {},
          "execution_count": 53
        }
      ]
    },
    {
      "cell_type": "code",
      "source": [
        "# MODELO OPTIMIZADO\n",
        "Decision_tree = DecisionTreeClassifier( criterion='entropy', splitter='best', max_depth= 9, min_samples_split=4, min_samples_leaf=1,random_state=None,class_weight=None) \n",
        "\n",
        "Decision_tree.fit(X_train, y_train)\n",
        "y_test_predicted = Decision_tree.predict(X_test)\n",
        "y_test_scores = Decision_tree.predict_proba(X_test)\n",
        "MCC = matthews_corrcoef(y_test, y_test_predicted)\n",
        "print(\"MCC = \", MCC)\n",
        "ACC = accuracy_score(y_test, y_test_predicted)\n",
        "print(\"Accuracy\", ACC)"
      ],
      "metadata": {
        "colab": {
          "base_uri": "https://localhost:8080/"
        },
        "id": "0oPb6VrlnP09",
        "outputId": "62f07535-d30b-4a3b-9763-ccc487a43b2b"
      },
      "execution_count": null,
      "outputs": [
        {
          "output_type": "stream",
          "name": "stdout",
          "text": [
            "MCC =  0.03865042855532814\n",
            "Accuracy 0.3840909090909091\n"
          ]
        }
      ]
    },
    {
      "cell_type": "markdown",
      "source": [
        "# **LDA**"
      ],
      "metadata": {
        "id": "Yq4HEJ9WtL84"
      }
    },
    {
      "cell_type": "code",
      "source": [
        "# CROSS-VALIDATION Y OPTIMIZACIÓN DE HIPERPARAMETROS CON GRID SEARCH\n",
        "\n",
        "grid = { \n",
        "    'solver' : ['svd','lsqr','eigen']  \n",
        "}\n",
        "\n",
        "\n",
        "rf_cv = GridSearchCV(estimator= LinearDiscriminantAnalysis(), param_grid=grid, cv= 5)\n",
        "rf_cv.fit(X_train, y_train)\n"
      ],
      "metadata": {
        "colab": {
          "base_uri": "https://localhost:8080/"
        },
        "id": "xSV-htKUtK_a",
        "outputId": "c681e3cb-56e3-4b83-e0d8-04ff82812857"
      },
      "execution_count": null,
      "outputs": [
        {
          "output_type": "execute_result",
          "data": {
            "text/plain": [
              "GridSearchCV(cv=5, estimator=LinearDiscriminantAnalysis(),\n",
              "             param_grid={'solver': ['svd', 'lsqr', 'eigen']})"
            ]
          },
          "metadata": {},
          "execution_count": 63
        }
      ]
    },
    {
      "cell_type": "code",
      "source": [
        "#Hiperparametros optimizados usando GridSearchCV\n",
        "rf_cv.best_params_"
      ],
      "metadata": {
        "colab": {
          "base_uri": "https://localhost:8080/"
        },
        "id": "vCLIRMmJvLR8",
        "outputId": "769b3f82-fcf4-431c-8da0-3565d5a2e2aa"
      },
      "execution_count": null,
      "outputs": [
        {
          "output_type": "execute_result",
          "data": {
            "text/plain": [
              "{'solver': 'svd'}"
            ]
          },
          "metadata": {},
          "execution_count": 64
        }
      ]
    },
    {
      "cell_type": "markdown",
      "source": [
        "## **3. MODELO OPTIMIZADO LDA, MEJOR OPCIÓN**"
      ],
      "metadata": {
        "id": "C_HEsZwAxDYT"
      }
    },
    {
      "cell_type": "code",
      "source": [
        "# MODELO OPTIMIZADO\n",
        "LDA = LinearDiscriminantAnalysis( solver= 'svd',shrinkage=None,priors=None,n_components=None,store_covariance=False) \n",
        "\n",
        "LDA.fit(X_train, y_train)\n",
        "y_test_predicted = LDA.predict(X_test)\n",
        "y_test_scores = LDA.predict_proba(X_test)\n",
        "MCC = matthews_corrcoef(y_test, y_test_predicted)\n",
        "print(\"MCC = \", MCC)\n",
        "ACC = accuracy_score(y_test, y_test_predicted)\n",
        "print(\"Accuracy\", ACC)"
      ],
      "metadata": {
        "colab": {
          "base_uri": "https://localhost:8080/"
        },
        "id": "-BMgJ6FCvQcm",
        "outputId": "f2c66311-6c74-4e7d-e2e9-8305fa09514b"
      },
      "execution_count": null,
      "outputs": [
        {
          "output_type": "stream",
          "name": "stdout",
          "text": [
            "MCC =  0.04914373462848003\n",
            "Accuracy 0.425\n"
          ]
        }
      ]
    },
    {
      "cell_type": "markdown",
      "source": [
        "## **4. RE-ENTRENAMIENTO LDA**"
      ],
      "metadata": {
        "id": "Qgsw-hohAAM3"
      }
    },
    {
      "cell_type": "code",
      "source": [
        "scaler = StandardScaler()\n",
        "scaler.fit(X)\n",
        "x_retrain = scaler.transform(X)\n",
        "\n",
        "LDA = LinearDiscriminantAnalysis( solver= 'svd',shrinkage=None,priors=None,n_components=None,store_covariance=False) \n",
        "\n",
        "\n",
        "LDA.fit(x_retrain, y)\n",
        "y_test_predicted = LDA.predict(X_test)\n",
        "y_test_scores =LDA.predict_proba(X_test)\n",
        "MCC = matthews_corrcoef(y_test, y_test_predicted)\n",
        "print(\"MCC = \", MCC)\n",
        "ACC = accuracy_score(y_test, y_test_predicted)\n",
        "print(\"Accuracy = \", ACC)\n",
        "F1_macro = f1_score(y_test, y_test_predicted, average='macro')\n",
        "print(\"F1_macro = \", F1_macro)\n",
        "F1_weighted = f1_score(y_test, y_test_predicted, average='weighted')\n",
        "print(\"F1_weighted = \", F1_weighted)\n"
      ],
      "metadata": {
        "colab": {
          "base_uri": "https://localhost:8080/"
        },
        "id": "FI2IJ-N0ACZl",
        "outputId": "d0048fc5-0c61-46af-f5ee-ceedccaabc64"
      },
      "execution_count": null,
      "outputs": [
        {
          "output_type": "stream",
          "name": "stdout",
          "text": [
            "MCC =  0.12884037401854784\n",
            "Accuracy =  0.4681818181818182\n",
            "F1_macro =  0.2588423996020105\n",
            "F1_weighted =  0.4038324888533318\n"
          ]
        }
      ]
    }
  ]
}